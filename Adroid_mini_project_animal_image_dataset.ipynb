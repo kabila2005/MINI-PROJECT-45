{
  "metadata": {
    "kernelspec": {
      "language": "python",
      "display_name": "Python 3",
      "name": "python3"
    },
    "language_info": {
      "name": "python",
      "version": "3.10.13",
      "mimetype": "text/x-python",
      "codemirror_mode": {
        "name": "ipython",
        "version": 3
      },
      "pygments_lexer": "ipython3",
      "nbconvert_exporter": "python",
      "file_extension": ".py"
    },
    "kaggle": {
      "accelerator": "gpu",
      "dataSources": [
        {
          "sourceId": 450106,
          "sourceType": "datasetVersion",
          "datasetId": 205087
        }
      ],
      "dockerImageVersionId": 30646,
      "isInternetEnabled": false,
      "language": "python",
      "sourceType": "notebook",
      "isGpuEnabled": true
    },
    "colab": {
      "provenance": []
    }
  },
  "nbformat_minor": 0,
  "nbformat": 4,
  "cells": [
    {
      "cell_type": "markdown",
      "source": [
        "# 1. Import Lib"
      ],
      "metadata": {
        "id": "A3aCs1LpASap"
      }
    },
    {
      "cell_type": "code",
      "source": [
        "# This Python 3 environment comes with many helpful analytics libraries installed\n",
        "# It is defined by the kaggle/python Docker image: https://github.com/kaggle/docker-python\n",
        "# For example, here's several helpful packages to load\n",
        "\n",
        "import numpy as np # linear algebra\n",
        "import pandas as pd # data processing, CSV file I/O (e.g. pd.read_csv)\n",
        "\n",
        "# Input data files are available in the read-only \"../input/\" directory\n",
        "# For example, running this (by clicking run or pressing Shift+Enter) will list all files under the input directory\n",
        "\n",
        "\n",
        "# Create list of images URL\n",
        "\n",
        "list_image_url = []\n",
        "list_images_label = []\n",
        "\n",
        "import os\n",
        "import numpy as np\n",
        "import pandas as pd\n",
        "from PIL import Image\n",
        "import matplotlib.pyplot as plt\n",
        "from glob import glob\n",
        "import time\n",
        "\n",
        "import torch\n",
        "import torch.nn as nn\n",
        "import torch.nn.functional as F\n",
        "import torch.optim as optim\n",
        "\n",
        "\n",
        "from torch.utils.data import Dataset\n",
        "\n",
        "import torchvision\n",
        "import torchvision.transforms as transforms\n",
        "\n",
        "from torchvision.transforms import (Compose,\n",
        "                                    RandomResizedCrop,\n",
        "                                    Resize,\n",
        "                                    CenterCrop,\n",
        "                                    RandomHorizontalFlip,\n",
        "                                    RandomVerticalFlip,\n",
        "                                    RandomPerspective,\n",
        "                                    RandomRotation,\n",
        "                                    ColorJitter,\n",
        "                                    Normalize,\n",
        "                                    ToTensor\n",
        "                                   )\n",
        "\n",
        "from collections import Counter\n",
        "\n",
        "from pathlib import Path\n",
        "\n",
        "label_map = {0:\"cats\",\n",
        "             1:\"dogs\",\n",
        "             2:\"panda\"\n",
        "            }\n",
        "\n",
        "\n"
      ],
      "metadata": {
        "_uuid": "8f2839f25d086af736a60e9eeb907d3b93b6e0e5",
        "_cell_guid": "b1076dfc-b9ad-4769-8c92-a6c4dae69d19",
        "execution": {
          "iopub.status.busy": "2024-03-23T14:54:55.99002Z",
          "iopub.execute_input": "2024-03-23T14:54:55.990527Z",
          "iopub.status.idle": "2024-03-23T14:55:00.839547Z",
          "shell.execute_reply.started": "2024-03-23T14:54:55.990491Z",
          "shell.execute_reply": "2024-03-23T14:55:00.838753Z"
        },
        "trusted": true,
        "id": "IgD1njf_ASaw"
      },
      "execution_count": null,
      "outputs": []
    },
    {
      "cell_type": "markdown",
      "source": [
        "# 2. Load Data URL and Labels to 2 Array"
      ],
      "metadata": {
        "id": "zTSpJ4NPASa3"
      }
    },
    {
      "cell_type": "code",
      "source": [
        "ds_path = '../input/animal-image-datasetdog-cat-and-panda/animals/'\n",
        "for category in ['cats','dogs','panda']:\n",
        "    # Hàm os.path.join là nối tạo path mới (+),\n",
        "    for p in os.listdir( os.path.join(ds_path, category)):\n",
        "\n",
        "        f = Path(os.path.join(ds_path,category, p))\n",
        "\n",
        "        list_image_url.append(f)\n",
        "\n",
        "        this_label = f.parent.stem\n",
        "\n",
        "        if this_label == 'cats':\n",
        "            this_label = 0\n",
        "        elif this_label == 'dogs':\n",
        "            this_label = 1\n",
        "        elif this_label == 'panda':\n",
        "            this_label = 2\n",
        "\n",
        "        list_images_label.append( this_label )\n",
        "\n",
        "print('Number of instance', len(list_image_url))\n",
        "\n",
        "Counter(list_images_label)\n",
        "\n",
        "# You can write up to 20GB to the current directory (/kaggle/working/) that gets preserved as output when you create a version using \"Save & Run All\"\n",
        "# You can also write temporary files to /kaggle/temp/, but they won't be saved outside of the current session"
      ],
      "metadata": {
        "execution": {
          "iopub.status.busy": "2024-03-23T14:55:00.841147Z",
          "iopub.execute_input": "2024-03-23T14:55:00.841548Z",
          "iopub.status.idle": "2024-03-23T14:55:03.002667Z",
          "shell.execute_reply.started": "2024-03-23T14:55:00.841522Z",
          "shell.execute_reply": "2024-03-23T14:55:03.001788Z"
        },
        "trusted": true,
        "id": "ivivWl8cASa5"
      },
      "execution_count": null,
      "outputs": []
    },
    {
      "cell_type": "markdown",
      "source": [
        "# 3. Check Data Variety"
      ],
      "metadata": {
        "id": "pXCzLn_oASa7"
      }
    },
    {
      "cell_type": "code",
      "source": [
        "sizes = []\n",
        "for path in list_image_url:\n",
        "    im = Image.open(path)\n",
        "    sizes.append(im.size)\n",
        "    im.close()\n",
        "\n",
        "print(max(sizes), min(sizes))\n",
        "del sizes"
      ],
      "metadata": {
        "execution": {
          "iopub.status.busy": "2024-03-23T14:55:03.004279Z",
          "iopub.execute_input": "2024-03-23T14:55:03.004616Z",
          "iopub.status.idle": "2024-03-23T14:55:25.905635Z",
          "shell.execute_reply.started": "2024-03-23T14:55:03.004586Z",
          "shell.execute_reply": "2024-03-23T14:55:25.904788Z"
        },
        "trusted": true,
        "id": "bbelja1rASa8"
      },
      "execution_count": null,
      "outputs": []
    },
    {
      "cell_type": "markdown",
      "source": [
        "# 4. Split Train and Test"
      ],
      "metadata": {
        "id": "QNeBQN9VASa-"
      }
    },
    {
      "cell_type": "code",
      "source": [
        "from sklearn.model_selection import train_test_split\n",
        "x_train, x_test, y_train, y_test = train_test_split(list_image_url, list_images_label, test_size=0.2, random_state=1357)\n",
        "len(x_train), len(x_test)"
      ],
      "metadata": {
        "execution": {
          "iopub.status.busy": "2024-03-23T14:55:25.908274Z",
          "iopub.execute_input": "2024-03-23T14:55:25.908641Z",
          "iopub.status.idle": "2024-03-23T14:55:26.431694Z",
          "shell.execute_reply.started": "2024-03-23T14:55:25.90861Z",
          "shell.execute_reply": "2024-03-23T14:55:26.430758Z"
        },
        "trusted": true,
        "id": "3iQYCpKeASa_"
      },
      "execution_count": null,
      "outputs": []
    },
    {
      "cell_type": "markdown",
      "source": [
        "# 5. Class Dataset inherit: Dataset of torch"
      ],
      "metadata": {
        "id": "7PSbAOjSASbA"
      }
    },
    {
      "cell_type": "code",
      "source": [
        "\n",
        "transform = Compose([\n",
        "    RandomResizedCrop(224),\n",
        "    RandomHorizontalFlip(1),\n",
        "    RandomVerticalFlip(0.1),\n",
        "    RandomPerspective(distortion_scale=0.2, p=0.2),\n",
        "    RandomRotation(15),\n",
        "    ToTensor(),\n",
        "    Normalize([0.485, 0.456, 0.406], [0.229, 0.224, 0.225]),\n",
        "])\n",
        "\n",
        "basic_augmentations = Compose([\n",
        "    Resize(224),\n",
        "    CenterCrop(224),\n",
        "    ToTensor()\n",
        "])\n",
        "\n",
        "class AnimalDataset(Dataset):\n",
        "    def __init__(self, img_paths , img_labels, size_of_images ):\n",
        "        self.img_paths = img_paths\n",
        "        self.img_labels = img_labels\n",
        "        self.size_of_images = size_of_images\n",
        "        if len(self.img_paths) != len(self.img_labels):\n",
        "            raise InvalidDatasetException(self.img_paths,self.img_labels)\n",
        "\n",
        "    def __len__(self):\n",
        "        return len(self.img_paths)\n",
        "\n",
        "    def __getitem__(self,index):\n",
        "        PIL_IMAGE = Image.open(self.img_paths[index]).convert(mode=\"RGB\").resize(self.size_of_images)\n",
        "        # In pytorch we use torch tensors, ToTensor transform transforms the PIL image\n",
        "        # to Torch tensor.\n",
        "        TENSOR_IMAGE = basic_augmentations(PIL_IMAGE)\n",
        "\n",
        "\n",
        "        vector = np.zeros(3)\n",
        "\n",
        "        vector[self.img_labels[index]] = 1\n",
        "\n",
        "        return TENSOR_IMAGE,vector\n",
        "\n",
        "import datetime\n",
        "print(datetime.datetime.now())"
      ],
      "metadata": {
        "execution": {
          "iopub.status.busy": "2024-03-23T14:55:26.432936Z",
          "iopub.execute_input": "2024-03-23T14:55:26.433511Z",
          "iopub.status.idle": "2024-03-23T14:55:26.444975Z",
          "shell.execute_reply.started": "2024-03-23T14:55:26.433476Z",
          "shell.execute_reply": "2024-03-23T14:55:26.443944Z"
        },
        "trusted": true,
        "id": "Pw5yVdlzASbB"
      },
      "execution_count": null,
      "outputs": []
    },
    {
      "cell_type": "code",
      "source": [
        "train_ds = AnimalDataset(x_train, y_train, (224,224))\n",
        "val_ds = AnimalDataset(x_test, y_test, (224,224) )\n",
        "\n",
        "len(train_ds), len(val_ds)"
      ],
      "metadata": {
        "execution": {
          "iopub.status.busy": "2024-03-23T14:55:26.446147Z",
          "iopub.execute_input": "2024-03-23T14:55:26.446449Z",
          "iopub.status.idle": "2024-03-23T14:55:26.462245Z",
          "shell.execute_reply.started": "2024-03-23T14:55:26.446414Z",
          "shell.execute_reply": "2024-03-23T14:55:26.461305Z"
        },
        "trusted": true,
        "id": "lfNEfvCgASbC"
      },
      "execution_count": null,
      "outputs": []
    },
    {
      "cell_type": "markdown",
      "source": [
        "# Visualization"
      ],
      "metadata": {
        "id": "YR5NmIGdASbD"
      }
    },
    {
      "cell_type": "code",
      "source": [
        "plot_ds  = AnimalDataset(x_train[:16], y_train[:16], (224,224))"
      ],
      "metadata": {
        "execution": {
          "iopub.status.busy": "2024-03-23T14:55:26.463316Z",
          "iopub.execute_input": "2024-03-23T14:55:26.463644Z",
          "iopub.status.idle": "2024-03-23T14:55:26.472212Z",
          "shell.execute_reply.started": "2024-03-23T14:55:26.463612Z",
          "shell.execute_reply": "2024-03-23T14:55:26.471455Z"
        },
        "trusted": true,
        "id": "Xj4WP1tEASbE"
      },
      "execution_count": null,
      "outputs": []
    },
    {
      "cell_type": "code",
      "source": [
        "to_plot = []\n",
        "classes = { 0: 'panda',\n",
        "            1: 'dog',\n",
        "            2: 'cat'\n",
        "          }\n",
        "for x,y in plot_ds:\n",
        "    to_plot.append((x,y))\n",
        "\n",
        "import matplotlib.pyplot as plt\n",
        "\n",
        "figure = plt.figure(figsize=(16,16))\n",
        "for i in range(1,17):\n",
        "    img = to_plot[i-1][0].permute(1,2,0)\n",
        "    label = 'view'\n",
        "    figure.add_subplot(4,4,i)\n",
        "    plt.title(label)\n",
        "    plt.axis('off')\n",
        "    plt.imshow(img)"
      ],
      "metadata": {
        "execution": {
          "iopub.status.busy": "2024-03-23T14:55:26.473276Z",
          "iopub.execute_input": "2024-03-23T14:55:26.473605Z",
          "iopub.status.idle": "2024-03-23T14:55:29.018291Z",
          "shell.execute_reply.started": "2024-03-23T14:55:26.473575Z",
          "shell.execute_reply": "2024-03-23T14:55:29.016976Z"
        },
        "trusted": true,
        "id": "H37xp1_bASbF"
      },
      "execution_count": null,
      "outputs": []
    },
    {
      "cell_type": "markdown",
      "source": [
        "# Batching Datasets"
      ],
      "metadata": {
        "id": "76SfXDEmASbH"
      }
    },
    {
      "cell_type": "code",
      "source": [
        "train_loader = torch.utils.data.DataLoader(train_ds, batch_size=32, shuffle=True)\n",
        "val_loader = torch.utils.data.DataLoader(val_ds, batch_size=32, shuffle=True)\n",
        "\n",
        "len(train_loader), len(val_loader)"
      ],
      "metadata": {
        "execution": {
          "iopub.status.busy": "2024-03-23T14:55:29.020255Z",
          "iopub.execute_input": "2024-03-23T14:55:29.020654Z",
          "iopub.status.idle": "2024-03-23T14:55:29.027857Z",
          "shell.execute_reply.started": "2024-03-23T14:55:29.020625Z",
          "shell.execute_reply": "2024-03-23T14:55:29.026978Z"
        },
        "trusted": true,
        "id": "jZR5vfQ0ASbH"
      },
      "execution_count": null,
      "outputs": []
    },
    {
      "cell_type": "markdown",
      "source": [
        "# 6. Model Config"
      ],
      "metadata": {
        "id": "JMSfREfUASbI"
      }
    },
    {
      "cell_type": "code",
      "source": [
        "class MyCNN(nn.Module):\n",
        "    def __init__(self):\n",
        "        super(MyCNN,self).__init__()\n",
        "        # Convolutional layers\n",
        "\n",
        "        self.backbone = nn.Sequential(\n",
        "\n",
        "            nn.Conv2d(3, 16, kernel_size=3, stride=1, padding=1),\n",
        "            nn.ReLU(),\n",
        "            nn.Conv2d(16, 16, kernel_size=3, stride=1, padding=1),\n",
        "            nn.ReLU(),\n",
        "            nn.BatchNorm2d(16),\n",
        "            nn.MaxPool2d(kernel_size=2, stride=2, padding=0),\n",
        "\n",
        "            nn.Conv2d(16, 28, kernel_size=3, stride=1, padding=1),\n",
        "            nn.ReLU(),\n",
        "            nn.Conv2d(28, 28, kernel_size=3, stride=1, padding=1),\n",
        "            nn.ReLU(),\n",
        "            nn.BatchNorm2d(28),\n",
        "            nn.MaxPool2d(kernel_size=2, stride=2, padding=0),\n",
        "\n",
        "\n",
        "            nn.Conv2d(28, 56, kernel_size=3, stride=1, padding=1),\n",
        "            nn.ReLU(),\n",
        "            nn.Conv2d(56, 56, kernel_size=3, stride=1, padding=1),\n",
        "            nn.ReLU(),\n",
        "            nn.BatchNorm2d(56),\n",
        "            nn.MaxPool2d(kernel_size=2, stride=2, padding=0),\n",
        "\n",
        "            nn.Dropout2d(0.5)\n",
        "\n",
        "        )\n",
        "\n",
        "\n",
        "\n",
        "        self.head = nn.Sequential(\n",
        "            nn.AdaptiveAvgPool1d(56),\n",
        "            nn.Linear(56,3),\n",
        "            nn.Softmax(dim=1)\n",
        "        )\n",
        "\n",
        "\n",
        "\n",
        "    def forward(self,x):\n",
        "        # Convolutional layers with ReLU activation and max pooling\n",
        "\n",
        "\n",
        "        x = self.backbone(x)\n",
        "        x = x.view(x.size(0), -1)\n",
        "        x = self.head(x)\n",
        "\n",
        "        return x\n",
        "\n",
        "print(MyCNN())"
      ],
      "metadata": {
        "execution": {
          "iopub.status.busy": "2024-03-23T14:55:29.031062Z",
          "iopub.execute_input": "2024-03-23T14:55:29.031916Z",
          "iopub.status.idle": "2024-03-23T14:55:29.066351Z",
          "shell.execute_reply.started": "2024-03-23T14:55:29.031834Z",
          "shell.execute_reply": "2024-03-23T14:55:29.065517Z"
        },
        "trusted": true,
        "id": "3_j_XBz4ASbI"
      },
      "execution_count": null,
      "outputs": []
    },
    {
      "cell_type": "markdown",
      "source": [
        "# Model ResNet"
      ],
      "metadata": {
        "id": "67JMBOfQASbJ"
      }
    },
    {
      "cell_type": "code",
      "source": [
        "resnet = torchvision.models.resnet50(pretrained=False)\n",
        "\n",
        "# Freeze the parameters so we don't update them during training\n",
        "\n",
        "\n",
        "class ResNEt50Tranfer(nn.Module):\n",
        "    def __init__(self):\n",
        "        super(ResNEt50Tranfer,self).__init__()\n",
        "\n",
        "        self.resnet = resnet\n",
        "\n",
        "#         for param in self.resnet.parameters():\n",
        "#             param.requires_grad = False\n",
        "\n",
        "\n",
        "        self.resnet.fc = nn.Sequential(\n",
        "               nn.Linear(2048, 128),\n",
        "               nn.ReLU(inplace=True),\n",
        "               nn.Linear(128, 3))\n",
        "\n",
        "    def forward(self,x):\n",
        "        x = self.resnet(x)\n",
        "        return x\n",
        "\n",
        "print(ResNEt50Tranfer())\n",
        "\n"
      ],
      "metadata": {
        "execution": {
          "iopub.status.busy": "2024-03-23T15:10:19.222588Z",
          "iopub.execute_input": "2024-03-23T15:10:19.222958Z",
          "iopub.status.idle": "2024-03-23T15:10:19.719674Z",
          "shell.execute_reply.started": "2024-03-23T15:10:19.222917Z",
          "shell.execute_reply": "2024-03-23T15:10:19.718649Z"
        },
        "trusted": true,
        "id": "2cyoIb8kASbJ"
      },
      "execution_count": null,
      "outputs": []
    },
    {
      "cell_type": "markdown",
      "source": [
        "# Set Up Parameter"
      ],
      "metadata": {
        "id": "_KknOWAkASbK"
      }
    },
    {
      "cell_type": "code",
      "source": [
        "device = torch.device(\"cuda\" if torch.cuda.is_available() else \"cpu\")\n",
        "model = ResNEt50Tranfer().to(device)\n",
        "\n",
        "Loss = nn.CrossEntropyLoss()\n",
        "\n",
        "optimizer = optim.Adam(model.parameters(),lr=1e-3)\n",
        "\n",
        "print(device)"
      ],
      "metadata": {
        "execution": {
          "iopub.status.busy": "2024-03-23T15:10:26.482383Z",
          "iopub.execute_input": "2024-03-23T15:10:26.483109Z",
          "iopub.status.idle": "2024-03-23T15:10:26.496306Z",
          "shell.execute_reply.started": "2024-03-23T15:10:26.483064Z",
          "shell.execute_reply": "2024-03-23T15:10:26.495488Z"
        },
        "trusted": true,
        "id": "1SrTwKWKASbK"
      },
      "execution_count": null,
      "outputs": []
    },
    {
      "cell_type": "code",
      "source": [
        "EPOCH_NUMBER = 10\n",
        "TRAIN_LOSS = []\n",
        "TRAIN_ACCURACY = []\n",
        "TEST_ACCURACY = []\n",
        "\n",
        "for epoch in range(1,EPOCH_NUMBER+1):\n",
        "    epoch_loss = 0.0\n",
        "    correct = 0\n",
        "    total = 0\n",
        "\n",
        "    model.train()\n",
        "\n",
        "    for data_instance in train_loader:\n",
        "        sample, label = data_instance\n",
        "\n",
        "        sample = sample.to(device)\n",
        "        label = label.to(device)\n",
        "\n",
        "\n",
        "\n",
        "        predict = model(sample)\n",
        "\n",
        "        this_lost = Loss(predict, label)\n",
        "\n",
        "        optimizer.zero_grad()\n",
        "        this_lost.backward()\n",
        "        optimizer.step()\n",
        "        epoch_loss += this_lost.item()\n",
        "\n",
        "    print('Traint',epoch, epoch_loss/len(train_loader) )\n",
        "\n",
        "    TRAIN_LOSS.append(epoch_loss/len(train_loader))\n",
        "\n",
        "    model.eval()\n",
        "\n",
        "    correct_val = 0\n",
        "    total_val = 0\n",
        "\n",
        "    for data_instance in train_loader:\n",
        "        sample, label = data_instance\n",
        "\n",
        "\n",
        "        sample = sample.to(device)\n",
        "        label = label.to(device)\n",
        "\n",
        "        predict = model(sample)\n",
        "\n",
        "        for index, ele_label in enumerate(predict):\n",
        "\n",
        "\n",
        "            total_val += 1\n",
        "            #print(predict[index] , torch.argmax(predict[index]) , torch.argmax(label[index])  )\n",
        "\n",
        "            if torch.argmax(predict[index]) == torch.argmax(label[index]):\n",
        "                correct_val += 1\n",
        "\n",
        "    print('Acc Train',epoch,  correct_val / total_val )\n",
        "\n",
        "    TRAIN_ACCURACY.append(correct_val / total_val)\n",
        "\n",
        "    model.eval()\n",
        "\n",
        "    correct_val = 0\n",
        "    total_val = 0\n",
        "\n",
        "    for data_instance in val_loader:\n",
        "        sample, label = data_instance\n",
        "\n",
        "        sample = sample.to(device)\n",
        "        label = label.to(device)\n",
        "\n",
        "        predict = model(sample)\n",
        "\n",
        "        for index, ele_label in enumerate(predict):\n",
        "            total_val += 1\n",
        "            #print(predict[index] , torch.argmax(predict[index]) , torch.argmax(label[index])  )\n",
        "\n",
        "            if torch.argmax(predict[index]) == torch.argmax(label[index]):\n",
        "                correct_val += 1\n",
        "\n",
        "    print('Acc Eval',epoch,  correct_val / total_val )\n",
        "\n",
        "    TEST_ACCURACY.append(correct_val / total_val)\n",
        "\n",
        "\n",
        ""
      ],
      "metadata": {
        "execution": {
          "iopub.status.busy": "2024-03-23T15:10:28.858135Z",
          "iopub.execute_input": "2024-03-23T15:10:28.8591Z",
          "iopub.status.idle": "2024-03-23T15:18:29.354921Z",
          "shell.execute_reply.started": "2024-03-23T15:10:28.859038Z",
          "shell.execute_reply": "2024-03-23T15:18:29.354009Z"
        },
        "trusted": true,
        "id": "mT2gGPgiASbM"
      },
      "execution_count": null,
      "outputs": []
    },
    {
      "cell_type": "code",
      "source": [
        "import matplotlib.pyplot as plt\n",
        "\n",
        "plt.plot(TRAIN_ACCURACY,  color='red')\n",
        "plt.plot(TEST_ACCURACY,   color='blue')\n",
        "plt.legend(['Train', 'Test'], loc='lower right')\n",
        "plt.title('Precision')"
      ],
      "metadata": {
        "execution": {
          "iopub.status.busy": "2024-03-23T15:20:03.206231Z",
          "iopub.execute_input": "2024-03-23T15:20:03.206586Z",
          "iopub.status.idle": "2024-03-23T15:20:03.441513Z",
          "shell.execute_reply.started": "2024-03-23T15:20:03.206559Z",
          "shell.execute_reply": "2024-03-23T15:20:03.440571Z"
        },
        "trusted": true,
        "id": "DKbD8WuUASbN"
      },
      "execution_count": null,
      "outputs": []
    }
  ]
}